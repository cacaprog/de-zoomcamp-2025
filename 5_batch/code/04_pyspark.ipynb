{
 "cells": [
  {
   "cell_type": "code",
   "execution_count": 1,
   "id": "8056bd09-003b-4a01-8523-018a3931989e",
   "metadata": {},
   "outputs": [],
   "source": [
    "import pyspark\n",
    "from pyspark.sql import SparkSession"
   ]
  },
  {
   "cell_type": "code",
   "execution_count": 2,
   "id": "760ee925-41c5-4cb7-a553-86d7cea62b2f",
   "metadata": {},
   "outputs": [
    {
     "name": "stderr",
     "output_type": "stream",
     "text": [
      "your 131072x1 screen size is bogus. expect trouble\n"
     ]
    },
    {
     "name": "stdout",
     "output_type": "stream",
     "text": [
      "25/03/01 09:52:00 WARN Utils: Your hostname, CairoPC resolves to a loopback address: 127.0.1.1; using 10.255.255.254 instead (on interface lo)\n",
      "25/03/01 09:52:00 WARN Utils: Set SPARK_LOCAL_IP if you need to bind to another address\n"
     ]
    },
    {
     "name": "stderr",
     "output_type": "stream",
     "text": [
      "Setting default log level to \"WARN\".\n",
      "To adjust logging level use sc.setLogLevel(newLevel). For SparkR, use setLogLevel(newLevel).\n"
     ]
    },
    {
     "name": "stdout",
     "output_type": "stream",
     "text": [
      "25/03/01 09:52:01 WARN NativeCodeLoader: Unable to load native-hadoop library for your platform... using builtin-java classes where applicable\n"
     ]
    }
   ],
   "source": [
    "spark = SparkSession.builder \\\n",
    "    .master(\"local[*]\") \\\n",
    "    .appName('test') \\\n",
    "    .getOrCreate()"
   ]
  },
  {
   "cell_type": "code",
   "execution_count": 3,
   "id": "9c9128ac",
   "metadata": {},
   "outputs": [
    {
     "name": "stdout",
     "output_type": "stream",
     "text": [
      "+-----------------+--------------------+-------------------+-------------------+------------+------------+-------+\n",
      "|hvfhs_license_num|dispatching_base_num|    pickup_datetime|   dropoff_datetime|PULocationID|DOLocationID|SR_Flag|\n",
      "+-----------------+--------------------+-------------------+-------------------+------------+------------+-------+\n",
      "|           HV0003|              B02682|2021-01-01 00:33:44|2021-01-01 00:49:07|         230|         166|   null|\n",
      "|           HV0003|              B02682|2021-01-01 00:55:19|2021-01-01 01:18:21|         152|         167|   null|\n",
      "|           HV0003|              B02764|2021-01-01 00:23:56|2021-01-01 00:38:05|         233|         142|   null|\n",
      "|           HV0003|              B02764|2021-01-01 00:42:51|2021-01-01 00:45:50|         142|         143|   null|\n",
      "|           HV0003|              B02764|2021-01-01 00:48:14|2021-01-01 01:08:42|         143|          78|   null|\n",
      "|           HV0005|              B02510|2021-01-01 00:06:59|2021-01-01 00:43:01|          88|          42|   null|\n",
      "|           HV0005|              B02510|2021-01-01 00:50:00|2021-01-01 01:04:57|          42|         151|   null|\n",
      "|           HV0003|              B02764|2021-01-01 00:14:30|2021-01-01 00:50:27|          71|         226|   null|\n",
      "|           HV0003|              B02875|2021-01-01 00:22:54|2021-01-01 00:30:20|         112|         255|   null|\n",
      "|           HV0003|              B02875|2021-01-01 00:40:12|2021-01-01 00:53:31|         255|         232|   null|\n",
      "|           HV0003|              B02875|2021-01-01 00:56:45|2021-01-01 01:17:42|         232|         198|   null|\n",
      "|           HV0003|              B02835|2021-01-01 00:29:04|2021-01-01 00:36:27|         113|          48|   null|\n",
      "|           HV0003|              B02835|2021-01-01 00:48:56|2021-01-01 00:59:12|         239|          75|   null|\n",
      "|           HV0004|              B02800|2021-01-01 00:15:24|2021-01-01 00:38:31|         181|         237|   null|\n",
      "|           HV0004|              B02800|2021-01-01 00:45:00|2021-01-01 01:06:45|         236|          68|   null|\n",
      "|           HV0003|              B02682|2021-01-01 00:11:53|2021-01-01 00:18:06|         256|         148|   null|\n",
      "|           HV0003|              B02682|2021-01-01 00:28:31|2021-01-01 00:41:40|          79|          80|   null|\n",
      "|           HV0003|              B02682|2021-01-01 00:50:49|2021-01-01 00:55:59|          17|         217|   null|\n",
      "|           HV0005|              B02510|2021-01-01 00:08:40|2021-01-01 00:39:39|          62|          29|   null|\n",
      "|           HV0003|              B02836|2021-01-01 00:53:48|2021-01-01 01:11:40|          22|          22|   null|\n",
      "+-----------------+--------------------+-------------------+-------------------+------------+------------+-------+\n",
      "only showing top 20 rows\n",
      "\n"
     ]
    }
   ],
   "source": [
    "df = spark.read \\\n",
    "    .option(\"header\", \"true\") \\\n",
    "    .csv('/home/de-zoomcamp-2025/5_batch/data/fhvhv_tripdata_2021-01.csv')\n",
    "\n",
    "df.show()"
   ]
  },
  {
   "cell_type": "code",
   "execution_count": 4,
   "id": "30fe421a",
   "metadata": {},
   "outputs": [
    {
     "data": {
      "text/plain": [
       "[Row(hvfhs_license_num='HV0003', dispatching_base_num='B02682', pickup_datetime='2021-01-01 00:33:44', dropoff_datetime='2021-01-01 00:49:07', PULocationID='230', DOLocationID='166', SR_Flag=None),\n",
       " Row(hvfhs_license_num='HV0003', dispatching_base_num='B02682', pickup_datetime='2021-01-01 00:55:19', dropoff_datetime='2021-01-01 01:18:21', PULocationID='152', DOLocationID='167', SR_Flag=None),\n",
       " Row(hvfhs_license_num='HV0003', dispatching_base_num='B02764', pickup_datetime='2021-01-01 00:23:56', dropoff_datetime='2021-01-01 00:38:05', PULocationID='233', DOLocationID='142', SR_Flag=None),\n",
       " Row(hvfhs_license_num='HV0003', dispatching_base_num='B02764', pickup_datetime='2021-01-01 00:42:51', dropoff_datetime='2021-01-01 00:45:50', PULocationID='142', DOLocationID='143', SR_Flag=None),\n",
       " Row(hvfhs_license_num='HV0003', dispatching_base_num='B02764', pickup_datetime='2021-01-01 00:48:14', dropoff_datetime='2021-01-01 01:08:42', PULocationID='143', DOLocationID='78', SR_Flag=None),\n",
       " Row(hvfhs_license_num='HV0005', dispatching_base_num='B02510', pickup_datetime='2021-01-01 00:06:59', dropoff_datetime='2021-01-01 00:43:01', PULocationID='88', DOLocationID='42', SR_Flag=None),\n",
       " Row(hvfhs_license_num='HV0005', dispatching_base_num='B02510', pickup_datetime='2021-01-01 00:50:00', dropoff_datetime='2021-01-01 01:04:57', PULocationID='42', DOLocationID='151', SR_Flag=None),\n",
       " Row(hvfhs_license_num='HV0003', dispatching_base_num='B02764', pickup_datetime='2021-01-01 00:14:30', dropoff_datetime='2021-01-01 00:50:27', PULocationID='71', DOLocationID='226', SR_Flag=None),\n",
       " Row(hvfhs_license_num='HV0003', dispatching_base_num='B02875', pickup_datetime='2021-01-01 00:22:54', dropoff_datetime='2021-01-01 00:30:20', PULocationID='112', DOLocationID='255', SR_Flag=None),\n",
       " Row(hvfhs_license_num='HV0003', dispatching_base_num='B02875', pickup_datetime='2021-01-01 00:40:12', dropoff_datetime='2021-01-01 00:53:31', PULocationID='255', DOLocationID='232', SR_Flag=None)]"
      ]
     },
     "execution_count": 4,
     "metadata": {},
     "output_type": "execute_result"
    }
   ],
   "source": [
    "df.head(10)"
   ]
  },
  {
   "cell_type": "code",
   "execution_count": 5,
   "id": "4666d394",
   "metadata": {},
   "outputs": [
    {
     "data": {
      "text/plain": [
       "StructType([StructField('hvfhs_license_num', StringType(), True), StructField('dispatching_base_num', StringType(), True), StructField('pickup_datetime', StringType(), True), StructField('dropoff_datetime', StringType(), True), StructField('PULocationID', StringType(), True), StructField('DOLocationID', StringType(), True), StructField('SR_Flag', StringType(), True)])"
      ]
     },
     "execution_count": 5,
     "metadata": {},
     "output_type": "execute_result"
    }
   ],
   "source": [
    "df.schema"
   ]
  },
  {
   "cell_type": "markdown",
   "id": "84992f4e",
   "metadata": {},
   "source": [
    "Create dataset with 1000 rows"
   ]
  },
  {
   "cell_type": "code",
   "execution_count": 57,
   "id": "21e2e3e7",
   "metadata": {},
   "outputs": [
    {
     "name": "stdout",
     "output_type": "stream",
     "text": [
      "hvfhs_license_num,dispatching_base_num,pickup_datetime,dropoff_datetime,PULocationID,DOLocationID,SR_Flag\n",
      "HV0003,B02682,2021-01-01 00:33:44,2021-01-01 00:49:07,230,166,\n",
      "HV0003,B02682,2021-01-01 00:55:19,2021-01-01 01:18:21,152,167,\n",
      "HV0003,B02764,2021-01-01 00:23:56,2021-01-01 00:38:05,233,142,\n",
      "HV0003,B02764,2021-01-01 00:42:51,2021-01-01 00:45:50,142,143,\n",
      "HV0003,B02764,2021-01-01 00:48:14,2021-01-01 01:08:42,143,78,\n",
      "HV0005,B02510,2021-01-01 00:06:59,2021-01-01 00:43:01,88,42,\n",
      "HV0005,B02510,2021-01-01 00:50:00,2021-01-01 01:04:57,42,151,\n",
      "HV0003,B02764,2021-01-01 00:14:30,2021-01-01 00:50:27,71,226,\n",
      "HV0003,B02875,2021-01-01 00:22:54,2021-01-01 00:30:20,112,255,\n"
     ]
    }
   ],
   "source": [
    "#!head -n 1001 'data/fhvhv_tripdata_2021-01.csv' > 'data/head.csv'\n",
    "!head -n 10 '/home/de-zoomcamp-2025/5_batch/data/fhvhv_tripdata_2021-01.csv' "
   ]
  },
  {
   "cell_type": "code",
   "execution_count": 6,
   "id": "891fca73",
   "metadata": {},
   "outputs": [],
   "source": [
    "df_head = df.limit(1000)"
   ]
  },
  {
   "cell_type": "code",
   "execution_count": null,
   "id": "5559db4d",
   "metadata": {},
   "outputs": [],
   "source": [
    "#df_head.write.csv('/home/de-zoomcamp-2025/5_batch/data/head.csv', header=True, mode='overwrite')"
   ]
  },
  {
   "cell_type": "code",
   "execution_count": 7,
   "id": "ebc9277d",
   "metadata": {},
   "outputs": [
    {
     "data": {
      "text/plain": [
       "Row(hvfhs_license_num='HV0003', dispatching_base_num='B02682', pickup_datetime='2021-01-01 00:33:44', dropoff_datetime='2021-01-01 00:49:07', PULocationID='230', DOLocationID='166', SR_Flag=None)"
      ]
     },
     "execution_count": 7,
     "metadata": {},
     "output_type": "execute_result"
    }
   ],
   "source": [
    "df_head.head()"
   ]
  },
  {
   "cell_type": "code",
   "execution_count": 8,
   "id": "9de79327",
   "metadata": {},
   "outputs": [],
   "source": [
    "import pandas as pd"
   ]
  },
  {
   "cell_type": "code",
   "execution_count": 9,
   "id": "2451b3ed",
   "metadata": {},
   "outputs": [],
   "source": [
    "df_pandas = pd.read_csv('/home/de-zoomcamp-2025/5_batch/data/head.csv/part-00000-6bdda71f-682a-4ae3-9f51-4f36609da291-c000.csv')"
   ]
  },
  {
   "cell_type": "code",
   "execution_count": 10,
   "id": "1f01e7f2",
   "metadata": {},
   "outputs": [
    {
     "data": {
      "text/plain": [
       "hvfhs_license_num        object\n",
       "dispatching_base_num     object\n",
       "pickup_datetime          object\n",
       "dropoff_datetime         object\n",
       "PULocationID              int64\n",
       "DOLocationID              int64\n",
       "SR_Flag                 float64\n",
       "dtype: object"
      ]
     },
     "execution_count": 10,
     "metadata": {},
     "output_type": "execute_result"
    }
   ],
   "source": [
    "df_pandas.dtypes"
   ]
  },
  {
   "cell_type": "markdown",
   "id": "93990cc7",
   "metadata": {},
   "source": [
    "Schema"
   ]
  },
  {
   "cell_type": "code",
   "execution_count": 58,
   "id": "59912a60",
   "metadata": {},
   "outputs": [],
   "source": [
    "from pyspark.sql import types\n",
    "\n",
    "schema = types.StructType([\n",
    "    types.StructField('hvfhs_license_num', types.StringType(), True),\n",
    "    types.StructField('dispatching_base_num', types.StringType(), True),\n",
    "    types.StructField('pickup_datetime', types.TimestampType(), True),\n",
    "    types.StructField('dropoff_datetime', types.TimestampType(), True),\n",
    "    types.StructField('PULocationID', types.IntegerType(), True),\n",
    "    types.StructField('DOLocationID', types.IntegerType(), True),\n",
    "    types.StructField('SR_Flag', types.StringType(), True)\n",
    "])"
   ]
  },
  {
   "cell_type": "code",
   "execution_count": 12,
   "id": "72fc75a5",
   "metadata": {},
   "outputs": [],
   "source": [
    "df = spark.read \\\n",
    "    .option(\"header\", \"true\") \\\n",
    "    .schema(schema) \\\n",
    "    .csv('/home/de-zoomcamp-2025/5_batch/data/fhvhv_tripdata_2021-01.csv')"
   ]
  },
  {
   "cell_type": "code",
   "execution_count": 13,
   "id": "f7964e1b",
   "metadata": {},
   "outputs": [
    {
     "data": {
      "text/plain": [
       "StructType([StructField('hvfhs_license_num', StringType(), True), StructField('dispatching_base_num', StringType(), True), StructField('pickup_datetime', TimestampType(), True), StructField('dropoff_datetime', TimestampType(), True), StructField('PULocationID', IntegerType(), True), StructField('DOLocationID', IntegerType(), True), StructField('SR_Flag', StringType(), True)])"
      ]
     },
     "execution_count": 13,
     "metadata": {},
     "output_type": "execute_result"
    }
   ],
   "source": [
    "df.schema"
   ]
  },
  {
   "cell_type": "markdown",
   "id": "2b309c99",
   "metadata": {},
   "source": [
    "Partition"
   ]
  },
  {
   "cell_type": "code",
   "execution_count": 28,
   "id": "2e579a30",
   "metadata": {},
   "outputs": [],
   "source": [
    "df = df.repartition(24)"
   ]
  },
  {
   "cell_type": "code",
   "execution_count": null,
   "id": "a46d41a1",
   "metadata": {},
   "outputs": [
    {
     "name": "stderr",
     "output_type": "stream",
     "text": [
      "[Stage 14:>                                                       (0 + 12) / 24]\r"
     ]
    },
    {
     "name": "stdout",
     "output_type": "stream",
     "text": [
      "25/02/28 21:28:34 WARN MemoryManager: Total allocation exceeds 95.00% (1,020,054,720 bytes) of heap memory\n",
      "Scaling row group sizes to 95.00% for 8 writers\n",
      "25/02/28 21:28:34 WARN MemoryManager: Total allocation exceeds 95.00% (1,020,054,720 bytes) of heap memory\n",
      "Scaling row group sizes to 84.44% for 9 writers\n",
      "25/02/28 21:28:34 WARN MemoryManager: Total allocation exceeds 95.00% (1,020,054,720 bytes) of heap memory\n",
      "Scaling row group sizes to 76.00% for 10 writers\n",
      "25/02/28 21:28:34 WARN MemoryManager: Total allocation exceeds 95.00% (1,020,054,720 bytes) of heap memory\n",
      "Scaling row group sizes to 69.09% for 11 writers\n",
      "25/02/28 21:28:34 WARN MemoryManager: Total allocation exceeds 95.00% (1,020,054,720 bytes) of heap memory\n",
      "Scaling row group sizes to 63.33% for 12 writers\n",
      "25/02/28 21:28:37 WARN MemoryManager: Total allocation exceeds 95.00% (1,020,054,720 bytes) of heap memory\n",
      "Scaling row group sizes to 69.09% for 11 writers\n",
      "25/02/28 21:28:37 WARN MemoryManager: Total allocation exceeds 95.00% (1,020,054,720 bytes) of heap memory\n",
      "Scaling row group sizes to 76.00% for 10 writers\n",
      "25/02/28 21:28:37 WARN MemoryManager: Total allocation exceeds 95.00% (1,020,054,720 bytes) of heap memory\n",
      "Scaling row group sizes to 84.44% for 9 writers\n",
      "25/02/28 21:28:37 WARN MemoryManager: Total allocation exceeds 95.00% (1,020,054,720 bytes) of heap memory\n",
      "Scaling row group sizes to 95.00% for 8 writers\n"
     ]
    },
    {
     "name": "stderr",
     "output_type": "stream",
     "text": [
      "[Stage 14:===========================>                           (12 + 12) / 24]\r"
     ]
    },
    {
     "name": "stdout",
     "output_type": "stream",
     "text": [
      "25/02/28 21:28:41 WARN MemoryManager: Total allocation exceeds 95.00% (1,020,054,720 bytes) of heap memory\n",
      "Scaling row group sizes to 95.00% for 8 writers\n",
      "25/02/28 21:28:41 WARN MemoryManager: Total allocation exceeds 95.00% (1,020,054,720 bytes) of heap memory\n",
      "Scaling row group sizes to 84.44% for 9 writers\n",
      "25/02/28 21:28:41 WARN MemoryManager: Total allocation exceeds 95.00% (1,020,054,720 bytes) of heap memory\n",
      "Scaling row group sizes to 76.00% for 10 writers\n",
      "25/02/28 21:28:41 WARN MemoryManager: Total allocation exceeds 95.00% (1,020,054,720 bytes) of heap memory\n",
      "Scaling row group sizes to 69.09% for 11 writers\n",
      "25/02/28 21:28:41 WARN MemoryManager: Total allocation exceeds 95.00% (1,020,054,720 bytes) of heap memory\n",
      "Scaling row group sizes to 63.33% for 12 writers\n",
      "25/02/28 21:28:42 WARN MemoryManager: Total allocation exceeds 95.00% (1,020,054,720 bytes) of heap memory\n",
      "Scaling row group sizes to 69.09% for 11 writers\n",
      "25/02/28 21:28:42 WARN MemoryManager: Total allocation exceeds 95.00% (1,020,054,720 bytes) of heap memory\n",
      "Scaling row group sizes to 76.00% for 10 writers\n",
      "25/02/28 21:28:42 WARN MemoryManager: Total allocation exceeds 95.00% (1,020,054,720 bytes) of heap memory\n",
      "Scaling row group sizes to 84.44% for 9 writers\n",
      "25/02/28 21:28:42 WARN MemoryManager: Total allocation exceeds 95.00% (1,020,054,720 bytes) of heap memory\n",
      "Scaling row group sizes to 95.00% for 8 writers\n"
     ]
    },
    {
     "name": "stderr",
     "output_type": "stream",
     "text": [
      "                                                                                \r"
     ]
    }
   ],
   "source": [
    "df.write.parquet('/home/de-zoomcamp-2025/5_batch/data/fhvhv/2021/01/')"
   ]
  },
  {
   "cell_type": "code",
   "execution_count": 79,
   "id": "d4030856",
   "metadata": {},
   "outputs": [],
   "source": [
    "df = spark.read.parquet('/home/de-zoomcamp-2025/5_batch/data/fhvhv/2021/01')"
   ]
  },
  {
   "cell_type": "markdown",
   "id": "4796d447",
   "metadata": {},
   "source": [
    "Parquet file contain schema information"
   ]
  },
  {
   "cell_type": "code",
   "execution_count": 80,
   "id": "439ef893",
   "metadata": {},
   "outputs": [
    {
     "name": "stdout",
     "output_type": "stream",
     "text": [
      "root\n",
      " |-- hvfhs_license_num: string (nullable = true)\n",
      " |-- dispatching_base_num: string (nullable = true)\n",
      " |-- pickup_datetime: timestamp (nullable = true)\n",
      " |-- dropoff_datetime: timestamp (nullable = true)\n",
      " |-- PULocationID: integer (nullable = true)\n",
      " |-- DOLocationID: integer (nullable = true)\n",
      " |-- SR_Flag: string (nullable = true)\n",
      "\n"
     ]
    }
   ],
   "source": [
    "df.printSchema()"
   ]
  },
  {
   "cell_type": "markdown",
   "id": "139665a1",
   "metadata": {},
   "source": [
    "User defined function"
   ]
  },
  {
   "cell_type": "markdown",
   "id": "3e166ec9",
   "metadata": {},
   "source": [
    "SELECT * FROM df WHERE hvfhs_license_num = HV0003"
   ]
  },
  {
   "cell_type": "code",
   "execution_count": 81,
   "id": "6aa12710",
   "metadata": {},
   "outputs": [],
   "source": [
    "from pyspark.sql import functions as F"
   ]
  },
  {
   "cell_type": "code",
   "execution_count": 82,
   "id": "34a0e786",
   "metadata": {},
   "outputs": [
    {
     "name": "stdout",
     "output_type": "stream",
     "text": [
      "+-----------------+--------------------+-------------------+-------------------+------------+------------+-------+\n",
      "|hvfhs_license_num|dispatching_base_num|    pickup_datetime|   dropoff_datetime|PULocationID|DOLocationID|SR_Flag|\n",
      "+-----------------+--------------------+-------------------+-------------------+------------+------------+-------+\n",
      "|           HV0003|              B02878|2021-01-01 20:17:37|2021-01-01 20:56:04|         132|         246|   null|\n",
      "|           HV0003|              B02872|2021-01-02 15:58:47|2021-01-02 16:25:07|         205|          98|   null|\n",
      "|           HV0003|              B02764|2021-01-02 16:51:34|2021-01-02 17:15:32|          77|         155|   null|\n",
      "|           HV0005|              B02510|2021-01-02 21:03:39|2021-01-02 21:36:56|          51|         166|   null|\n",
      "|           HV0005|              B02510|2021-01-03 15:00:27|2021-01-03 15:13:59|          18|         259|   null|\n",
      "|           HV0003|              B02865|2021-01-02 03:15:18|2021-01-02 03:35:44|          77|          80|   null|\n",
      "|           HV0005|              B02510|2021-01-02 13:12:11|2021-01-02 13:23:34|         113|         170|   null|\n",
      "|           HV0003|              B02872|2021-01-02 20:22:58|2021-01-02 20:28:47|         186|         249|   null|\n",
      "|           HV0003|              B02867|2021-01-03 08:35:23|2021-01-03 09:11:53|          85|          14|   null|\n",
      "|           HV0003|              B02866|2021-01-03 16:19:47|2021-01-03 16:38:38|         225|          35|   null|\n",
      "|           HV0005|              B02510|2021-01-02 00:54:56|2021-01-02 01:11:40|         202|          87|   null|\n",
      "|           HV0003|              B02875|2021-01-02 17:45:13|2021-01-02 18:15:55|         147|         220|   null|\n",
      "|           HV0003|              B02871|2021-01-03 19:58:04|2021-01-03 20:13:21|         252|         223|   null|\n",
      "|           HV0003|              B02617|2021-01-03 15:36:47|2021-01-03 15:50:11|          17|          97|   null|\n",
      "|           HV0003|              B02877|2021-01-01 21:00:03|2021-01-01 21:04:58|         210|         210|   null|\n",
      "|           HV0005|              B02510|2021-01-01 18:14:19|2021-01-01 18:23:29|         155|         155|   null|\n",
      "|           HV0003|              B02682|2021-01-03 00:53:34|2021-01-03 01:04:45|          17|          62|   null|\n",
      "|           HV0003|              B02764|2021-01-03 05:17:38|2021-01-03 05:21:16|          86|          86|   null|\n",
      "|           HV0005|              B02510|2021-01-01 17:17:21|2021-01-01 17:23:57|          48|          68|   null|\n",
      "|           HV0005|              B02510|2021-01-01 16:05:29|2021-01-01 16:19:58|          39|          89|   null|\n",
      "+-----------------+--------------------+-------------------+-------------------+------------+------------+-------+\n",
      "only showing top 20 rows\n",
      "\n"
     ]
    }
   ],
   "source": [
    "df.show()"
   ]
  },
  {
   "cell_type": "code",
   "execution_count": 83,
   "id": "a6bd0c4f",
   "metadata": {},
   "outputs": [],
   "source": [
    "def crazy_stuff(base_num):\n",
    "    print(f\"base_num: {base_num}\")  # Debug print\n",
    "    if base_num is None or len(base_num) < 1:\n",
    "        return None\n",
    "    num = int(base_num[1:])\n",
    "    if num % 7 == 0:\n",
    "        return f's/{num:03x}'\n",
    "    elif num % 3 == 0:\n",
    "        return f'a/{num:03x}'\n",
    "    else:\n",
    "        return f'e/{num:03x}'"
   ]
  },
  {
   "cell_type": "code",
   "execution_count": 84,
   "id": "a533f478",
   "metadata": {},
   "outputs": [
    {
     "name": "stdout",
     "output_type": "stream",
     "text": [
      "base_num: B02510\n"
     ]
    },
    {
     "data": {
      "text/plain": [
       "'e/9ce'"
      ]
     },
     "execution_count": 84,
     "metadata": {},
     "output_type": "execute_result"
    }
   ],
   "source": [
    "crazy_stuff('B02510')"
   ]
  },
  {
   "cell_type": "code",
   "execution_count": 85,
   "id": "ab3466e1",
   "metadata": {},
   "outputs": [
    {
     "name": "stdout",
     "output_type": "stream",
     "text": [
      "base_num: B02884\n"
     ]
    },
    {
     "data": {
      "text/plain": [
       "'s/b44'"
      ]
     },
     "execution_count": 85,
     "metadata": {},
     "output_type": "execute_result"
    }
   ],
   "source": [
    "crazy_stuff('B02884')"
   ]
  },
  {
   "cell_type": "code",
   "execution_count": 86,
   "id": "a1be4b3b",
   "metadata": {},
   "outputs": [],
   "source": [
    "crazy_stuff_udf = F.udf(crazy_stuff, returnType=types.StringType())"
   ]
  },
  {
   "cell_type": "code",
   "execution_count": 92,
   "id": "212fb7e4",
   "metadata": {},
   "outputs": [],
   "source": [
    "#df \\\n",
    "#    .withColumn('pickup_date', F.to_date(df.pickup_datetime)) \\\n",
    "#    .withColumn('dropoff_date', F.to_date(df.dropoff_datetime)) \\\n",
    "#    .withColumn('base_id', crazy_stuff_udf(df.dispatching_base_num)) \\\n",
    "#    .select('base_id', 'pickup_date', 'dropoff_date', 'PULocationID', 'DOLocationID') \\\n",
    "#    .show()"
   ]
  },
  {
   "cell_type": "code",
   "execution_count": 91,
   "id": "7132af19",
   "metadata": {},
   "outputs": [
    {
     "name": "stdout",
     "output_type": "stream",
     "text": [
      "+-------+-----------+------------+------------+------------+\n",
      "|base_id|pickup_date|dropoff_date|PULocationID|DOLocationID|\n",
      "+-------+-----------+------------+------------+------------+\n",
      "|  e/B3E| 2021-01-01|  2021-01-01|         132|         246|\n",
      "|  e/B38| 2021-01-02|  2021-01-02|         205|          98|\n",
      "|  e/ACC| 2021-01-02|  2021-01-02|          77|         155|\n",
      "|  e/9CE| 2021-01-02|  2021-01-02|          51|         166|\n",
      "|  e/9CE| 2021-01-03|  2021-01-03|          18|         259|\n",
      "|  a/B31| 2021-01-02|  2021-01-02|          77|          80|\n",
      "|  e/9CE| 2021-01-02|  2021-01-02|         113|         170|\n",
      "|  e/B38| 2021-01-02|  2021-01-02|         186|         249|\n",
      "|  e/B33| 2021-01-03|  2021-01-03|          85|          14|\n",
      "|  e/B32| 2021-01-03|  2021-01-03|         225|          35|\n",
      "|  e/9CE| 2021-01-02|  2021-01-02|         202|          87|\n",
      "|  e/B3B| 2021-01-02|  2021-01-02|         147|         220|\n",
      "|  a/B37| 2021-01-03|  2021-01-03|         252|         223|\n",
      "|  e/A39| 2021-01-03|  2021-01-03|          17|          97|\n",
      "|  s/B3D| 2021-01-01|  2021-01-01|         210|         210|\n",
      "|  e/9CE| 2021-01-01|  2021-01-01|         155|         155|\n",
      "|  a/A7A| 2021-01-03|  2021-01-03|          17|          62|\n",
      "|  e/ACC| 2021-01-03|  2021-01-03|          86|          86|\n",
      "|  e/9CE| 2021-01-01|  2021-01-01|          48|          68|\n",
      "|  e/9CE| 2021-01-01|  2021-01-01|          39|          89|\n",
      "+-------+-----------+------------+------------+------------+\n",
      "only showing top 20 rows\n",
      "\n"
     ]
    }
   ],
   "source": [
    "# Register the DataFrame as a temporary view\n",
    "df.createOrReplaceTempView(\"trips\")\n",
    "\n",
    "# Use SQL expressions for the transformation\n",
    "sql_result = spark.sql(\"\"\"\n",
    "    SELECT \n",
    "        CASE \n",
    "            WHEN dispatching_base_num IS NULL OR LENGTH(dispatching_base_num) < 2 THEN NULL\n",
    "            WHEN CAST(SUBSTRING(dispatching_base_num, 2) AS INT) % 7 = 0 THEN CONCAT('s/', LPAD(CONV(SUBSTRING(dispatching_base_num, 2), 10, 16), 3, '0'))\n",
    "            WHEN CAST(SUBSTRING(dispatching_base_num, 2) AS INT) % 3 = 0 THEN CONCAT('a/', LPAD(CONV(SUBSTRING(dispatching_base_num, 2), 10, 16), 3, '0'))\n",
    "            ELSE CONCAT('e/', LPAD(CONV(SUBSTRING(dispatching_base_num, 2), 10, 16), 3, '0'))\n",
    "        END AS base_id,\n",
    "        TO_DATE(pickup_datetime) AS pickup_date,\n",
    "        TO_DATE(dropoff_datetime) AS dropoff_date,\n",
    "        PULocationID,\n",
    "        DOLocationID\n",
    "    FROM trips\n",
    "\"\"\")\n",
    "\n",
    "# Show the result\n",
    "sql_result.show()"
   ]
  },
  {
   "cell_type": "code",
   "execution_count": 93,
   "id": "c5d6e9bb",
   "metadata": {},
   "outputs": [
    {
     "data": {
      "text/plain": [
       "DataFrame[pickup_datetime: timestamp, dropoff_datetime: timestamp, PULocationID: int, DOLocationID: int]"
      ]
     },
     "execution_count": 93,
     "metadata": {},
     "output_type": "execute_result"
    }
   ],
   "source": [
    "df.select('pickup_datetime', 'dropoff_datetime', 'PULocationID', 'DOLocationID') \\\n",
    "  .filter(df.hvfhs_license_num == 'HV0003')"
   ]
  },
  {
   "cell_type": "code",
   "execution_count": 94,
   "id": "8e0c779e",
   "metadata": {},
   "outputs": [
    {
     "name": "stdout",
     "output_type": "stream",
     "text": [
      "+-------------------+-------------------+------------+------------+\n",
      "|    pickup_datetime|   dropoff_datetime|PULocationID|DOLocationID|\n",
      "+-------------------+-------------------+------------+------------+\n",
      "|2021-01-01 20:17:37|2021-01-01 20:56:04|         132|         246|\n",
      "|2021-01-02 15:58:47|2021-01-02 16:25:07|         205|          98|\n",
      "|2021-01-02 16:51:34|2021-01-02 17:15:32|          77|         155|\n",
      "|2021-01-02 03:15:18|2021-01-02 03:35:44|          77|          80|\n",
      "|2021-01-02 20:22:58|2021-01-02 20:28:47|         186|         249|\n",
      "|2021-01-03 08:35:23|2021-01-03 09:11:53|          85|          14|\n",
      "|2021-01-03 16:19:47|2021-01-03 16:38:38|         225|          35|\n",
      "|2021-01-02 17:45:13|2021-01-02 18:15:55|         147|         220|\n",
      "|2021-01-03 19:58:04|2021-01-03 20:13:21|         252|         223|\n",
      "|2021-01-03 15:36:47|2021-01-03 15:50:11|          17|          97|\n",
      "|2021-01-01 21:00:03|2021-01-01 21:04:58|         210|         210|\n",
      "|2021-01-03 00:53:34|2021-01-03 01:04:45|          17|          62|\n",
      "|2021-01-03 05:17:38|2021-01-03 05:21:16|          86|          86|\n",
      "|2021-01-01 02:10:58|2021-01-01 02:15:14|         254|         174|\n",
      "|2021-01-02 05:41:51|2021-01-02 05:49:41|          71|          89|\n",
      "|2021-01-03 09:41:12|2021-01-03 10:01:36|           7|         166|\n",
      "|2021-01-01 03:17:38|2021-01-01 03:32:37|          77|          71|\n",
      "|2021-01-01 03:36:31|2021-01-01 04:05:00|         165|         132|\n",
      "|2021-01-01 18:48:05|2021-01-01 19:16:55|          51|         235|\n",
      "|2021-01-01 23:58:00|2021-01-02 00:12:47|          85|         177|\n",
      "+-------------------+-------------------+------------+------------+\n",
      "only showing top 20 rows\n",
      "\n"
     ]
    }
   ],
   "source": [
    "# Register the DataFrame as a temporary view\n",
    "df.createOrReplaceTempView(\"trips\")\n",
    "\n",
    "# Use spark.sql to run the equivalent query\n",
    "result = spark.sql(\"\"\"\n",
    "    SELECT \n",
    "        pickup_datetime,\n",
    "        dropoff_datetime,\n",
    "        PULocationID,\n",
    "        DOLocationID\n",
    "    FROM trips\n",
    "    WHERE hvfhs_license_num = 'HV0003'\n",
    "\"\"\")\n",
    "result.show()"
   ]
  }
 ],
 "metadata": {
  "kernelspec": {
   "display_name": "base",
   "language": "python",
   "name": "python3"
  },
  "language_info": {
   "codemirror_mode": {
    "name": "ipython",
    "version": 3
   },
   "file_extension": ".py",
   "mimetype": "text/x-python",
   "name": "python",
   "nbconvert_exporter": "python",
   "pygments_lexer": "ipython3",
   "version": "3.11.5"
  }
 },
 "nbformat": 4,
 "nbformat_minor": 5
}
